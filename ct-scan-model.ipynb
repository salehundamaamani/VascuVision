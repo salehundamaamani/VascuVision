{
 "cells": [
  {
   "cell_type": "code",
   "execution_count": 1,
   "id": "dad01177",
   "metadata": {
    "_cell_guid": "b1076dfc-b9ad-4769-8c92-a6c4dae69d19",
    "_uuid": "8f2839f25d086af736a60e9eeb907d3b93b6e0e5",
    "execution": {
     "iopub.execute_input": "2024-04-02T16:47:23.780859Z",
     "iopub.status.busy": "2024-04-02T16:47:23.779750Z",
     "iopub.status.idle": "2024-04-02T16:47:24.722165Z",
     "shell.execute_reply": "2024-04-02T16:47:24.720865Z"
    },
    "papermill": {
     "duration": 0.95812,
     "end_time": "2024-04-02T16:47:24.724557",
     "exception": false,
     "start_time": "2024-04-02T16:47:23.766437",
     "status": "completed"
    },
    "tags": []
   },
   "outputs": [
    {
     "name": "stdout",
     "output_type": "stream",
     "text": [
      "/kaggle/input/ct-scan/pat1reg-tp0.mhd\n",
      "/kaggle/input/ct-scan/pat8reg-tp0.mhd\n",
      "/kaggle/input/ct-scan/pat5reg-tp0.mhd\n",
      "/kaggle/input/ct-scan/pat2reg-tp0.mhd\n",
      "/kaggle/input/ct-scan/pat7reg-tp0.mhd\n",
      "/kaggle/input/ct-scan/pat12reg-tp0.mhd\n",
      "/kaggle/input/ct-scan/pat15reg-tp0.mhd\n",
      "/kaggle/input/ct-scan/pat6reg-tp0.mhd\n",
      "/kaggle/input/ct-scan/pat11reg-tp0.mhd\n",
      "/kaggle/input/ct-scan/pat9reg-tp0.mhd\n",
      "/kaggle/input/ct-scan/pat4reg-tp0.mhd\n",
      "/kaggle/input/ct-scan/pat3reg-tp0.mhd\n",
      "/kaggle/input/loaded-dataset/ct_data_list.npy\n"
     ]
    }
   ],
   "source": [
    "# This Python 3 environment comes with many helpful analytics libraries installed\n",
    "# It is defined by the kaggle/python Docker image: https://github.com/kaggle/docker-python\n",
    "# For example, here's several helpful packages to load\n",
    "\n",
    "import numpy as np # linear algebra\n",
    "import pandas as pd # data processing, CSV file I/O (e.g. pd.read_csv)\n",
    "\n",
    "# Input data files are available in the read-only \"../input/\" directory\n",
    "# For example, running this (by clicking run or pressing Shift+Enter) will list all files under the input directory\n",
    "\n",
    "import os\n",
    "for dirname, _, filenames in os.walk('/kaggle/input'):\n",
    "    for filename in filenames:\n",
    "        print(os.path.join(dirname, filename))\n",
    "\n",
    "# You can write up to 20GB to the current directory (/kaggle/working/) that gets preserved as output when you create a version using \"Save & Run All\" \n",
    "# You can also write temporary files to /kaggle/temp/, but they won't be saved outside of the current session"
   ]
  },
  {
   "cell_type": "code",
   "execution_count": 2,
   "id": "18e5dc24",
   "metadata": {
    "execution": {
     "iopub.execute_input": "2024-04-02T16:47:24.748416Z",
     "iopub.status.busy": "2024-04-02T16:47:24.747285Z",
     "iopub.status.idle": "2024-04-02T16:47:25.374682Z",
     "shell.execute_reply": "2024-04-02T16:47:25.373578Z"
    },
    "papermill": {
     "duration": 0.64174,
     "end_time": "2024-04-02T16:47:25.377131",
     "exception": false,
     "start_time": "2024-04-02T16:47:24.735391",
     "status": "completed"
    },
    "tags": []
   },
   "outputs": [],
   "source": [
    "# Install the library for reading .mhd files (if not already installed)\n",
    "\n",
    "import SimpleITK as sitk\n",
    "import os\n",
    "import numpy as np\n",
    "import pydicom  # Import the library for reading .mhd files\n",
    "\n",
    "# def load_mhd_dataset(data_dir):\n",
    "#     mhd_files = [f for f in os.listdir(data_dir) if f.lower().endswith('.mhd')]\n",
    "#     print(mhd_files)\n",
    "#     data = []\n",
    "#     # Loop through all files in the directory\n",
    "#     for filename in os.listdir(data_dir):\n",
    "#         if filename.endswith(\".mhd\"):\n",
    "#             file_path = os.path.join(data_dir, filename)\n",
    "\n",
    "#             # Load the MHD file using SimpleITK\n",
    "#             ct_image = sitk.ReadImage(file_path)\n",
    "\n",
    "#             # Convert the SimpleITK image to a NumPy array\n",
    "#             ct_data = sitk.GetArrayFromImage(ct_image)\n",
    "\n",
    "#             # Extract metadata (spacing, origin, direction) if needed\n",
    "#             spacing = ct_image.GetSpacing()\n",
    "#             origin = ct_image.GetOrigin()\n",
    "#             direction = ct_image.GetDirection()\n",
    "\n",
    "#             # Append data and metadata to lists\n",
    "#             ct_data_list.append(ct_data)\n",
    "#             spacing_list.append(spacing)\n",
    "#             origin_list.append(origin)\n",
    "#             direction_list.append(direction)\n",
    "\n",
    "# # Example usage:\n",
    "# data_dir = '/kaggle/input/ct-scan'  # Replace with your input directory path\n",
    "# ct_scan_data = load_mhd_dataset(data_dir)\n",
    "\n",
    "# # print(f\"Loaded CT scan data with shape: {ct_scan_data.shape}\")\n",
    "\n",
    "# # Now you can access individual scans using indexing:\n",
    "# # first_scan = ct_scan_data[0]  # Access the first scan data (3D array)\n"
   ]
  },
  {
   "cell_type": "code",
   "execution_count": 3,
   "id": "5bb999a8",
   "metadata": {
    "execution": {
     "iopub.execute_input": "2024-04-02T16:47:25.400530Z",
     "iopub.status.busy": "2024-04-02T16:47:25.400114Z",
     "iopub.status.idle": "2024-04-02T16:47:26.015891Z",
     "shell.execute_reply": "2024-04-02T16:47:26.014446Z"
    },
    "papermill": {
     "duration": 0.629152,
     "end_time": "2024-04-02T16:47:26.017403",
     "exception": true,
     "start_time": "2024-04-02T16:47:25.388251",
     "status": "failed"
    },
    "tags": []
   },
   "outputs": [
    {
     "name": "stderr",
     "output_type": "stream",
     "text": [
      "MetaImage: Read: Cannot open data file\n",
      "MetaImage: Read: Cannot open data file\n",
      "MetaImage: Read: Cannot open data file\n",
      "MetaImage: Read: Cannot open data file\n",
      "MetaImage: Read: Cannot open data file\n",
      "MetaImage: Read: Cannot open data file\n",
      "MetaImage: Read: Cannot open data file\n",
      "MetaImage: Read: Cannot open data file\n",
      "MetaImage: Read: Cannot open data file\n",
      "MetaImage: Read: Cannot open data file\n",
      "MetaImage: Read: Cannot open data file\n",
      "MetaImage: Read: Cannot open data file\n"
     ]
    },
    {
     "name": "stdout",
     "output_type": "stream",
     "text": [
      "Error loading file /kaggle/input/ct-scan/pat1reg-tp0.mhd: Exception thrown in SimpleITK ImageFileReader_Execute: /tmp/SimpleITK-build/ITK/Modules/IO/Meta/src/itkMetaImageIO.cxx:483:\n",
      "ITK ERROR: MetaImageIO(0x5705853fd3e0): File cannot be read: /kaggle/input/ct-scan/pat1reg-tp0.mhd for reading.\n",
      "Reason: No such file or directory\n",
      "Error loading file /kaggle/input/ct-scan/pat8reg-tp0.mhd: Exception thrown in SimpleITK ImageFileReader_Execute: /tmp/SimpleITK-build/ITK/Modules/IO/Meta/src/itkMetaImageIO.cxx:483:\n",
      "ITK ERROR: MetaImageIO(0x5705853fd3e0): File cannot be read: /kaggle/input/ct-scan/pat8reg-tp0.mhd for reading.\n",
      "Reason: No such file or directory\n",
      "Error loading file /kaggle/input/ct-scan/pat5reg-tp0.mhd: Exception thrown in SimpleITK ImageFileReader_Execute: /tmp/SimpleITK-build/ITK/Modules/IO/Meta/src/itkMetaImageIO.cxx:483:\n",
      "ITK ERROR: MetaImageIO(0x5705853fd3e0): File cannot be read: /kaggle/input/ct-scan/pat5reg-tp0.mhd for reading.\n",
      "Reason: No such file or directory\n",
      "Error loading file /kaggle/input/ct-scan/pat2reg-tp0.mhd: Exception thrown in SimpleITK ImageFileReader_Execute: /tmp/SimpleITK-build/ITK/Modules/IO/Meta/src/itkMetaImageIO.cxx:483:\n",
      "ITK ERROR: MetaImageIO(0x5705853fd3e0): File cannot be read: /kaggle/input/ct-scan/pat2reg-tp0.mhd for reading.\n",
      "Reason: No such file or directory\n",
      "Error loading file /kaggle/input/ct-scan/pat7reg-tp0.mhd: Exception thrown in SimpleITK ImageFileReader_Execute: /tmp/SimpleITK-build/ITK/Modules/IO/Meta/src/itkMetaImageIO.cxx:483:\n",
      "ITK ERROR: MetaImageIO(0x5705853fd3e0): File cannot be read: /kaggle/input/ct-scan/pat7reg-tp0.mhd for reading.\n",
      "Reason: No such file or directory\n",
      "Error loading file /kaggle/input/ct-scan/pat12reg-tp0.mhd: Exception thrown in SimpleITK ImageFileReader_Execute: /tmp/SimpleITK-build/ITK/Modules/IO/Meta/src/itkMetaImageIO.cxx:483:\n",
      "ITK ERROR: MetaImageIO(0x5705853fd3e0): File cannot be read: /kaggle/input/ct-scan/pat12reg-tp0.mhd for reading.\n",
      "Reason: No such file or directory\n",
      "Error loading file /kaggle/input/ct-scan/pat15reg-tp0.mhd: Exception thrown in SimpleITK ImageFileReader_Execute: /tmp/SimpleITK-build/ITK/Modules/IO/Meta/src/itkMetaImageIO.cxx:483:\n",
      "ITK ERROR: MetaImageIO(0x5705853f9380): File cannot be read: /kaggle/input/ct-scan/pat15reg-tp0.mhd for reading.\n",
      "Reason: No such file or directory\n",
      "Error loading file /kaggle/input/ct-scan/pat6reg-tp0.mhd: Exception thrown in SimpleITK ImageFileReader_Execute: /tmp/SimpleITK-build/ITK/Modules/IO/Meta/src/itkMetaImageIO.cxx:483:\n",
      "ITK ERROR: MetaImageIO(0x5705854063d0): File cannot be read: /kaggle/input/ct-scan/pat6reg-tp0.mhd for reading.\n",
      "Reason: No such file or directory\n",
      "Error loading file /kaggle/input/ct-scan/pat11reg-tp0.mhd: Exception thrown in SimpleITK ImageFileReader_Execute: /tmp/SimpleITK-build/ITK/Modules/IO/Meta/src/itkMetaImageIO.cxx:483:\n",
      "ITK ERROR: MetaImageIO(0x5705853f9380): File cannot be read: /kaggle/input/ct-scan/pat11reg-tp0.mhd for reading.\n",
      "Reason: No such file or directory\n",
      "Error loading file /kaggle/input/ct-scan/pat9reg-tp0.mhd: Exception thrown in SimpleITK ImageFileReader_Execute: /tmp/SimpleITK-build/ITK/Modules/IO/Meta/src/itkMetaImageIO.cxx:483:\n",
      "ITK ERROR: MetaImageIO(0x5705854063d0): File cannot be read: /kaggle/input/ct-scan/pat9reg-tp0.mhd for reading.\n",
      "Reason: No such file or directory\n",
      "Error loading file /kaggle/input/ct-scan/pat4reg-tp0.mhd: Exception thrown in SimpleITK ImageFileReader_Execute: /tmp/SimpleITK-build/ITK/Modules/IO/Meta/src/itkMetaImageIO.cxx:483:\n",
      "ITK ERROR: MetaImageIO(0x5705853f9380): File cannot be read: /kaggle/input/ct-scan/pat4reg-tp0.mhd for reading.\n",
      "Reason: No such file or directory\n",
      "Error loading file /kaggle/input/ct-scan/pat3reg-tp0.mhd: Exception thrown in SimpleITK ImageFileReader_Execute: /tmp/SimpleITK-build/ITK/Modules/IO/Meta/src/itkMetaImageIO.cxx:483:\n",
      "ITK ERROR: MetaImageIO(0x5705853f9380): File cannot be read: /kaggle/input/ct-scan/pat3reg-tp0.mhd for reading.\n",
      "Reason: No such file or directory\n",
      "Loaded CT scan data with 0 scans.\n"
     ]
    },
    {
     "ename": "IndexError",
     "evalue": "list index out of range",
     "output_type": "error",
     "traceback": [
      "\u001b[0;31m---------------------------------------------------------------------------\u001b[0m",
      "\u001b[0;31mIndexError\u001b[0m                                Traceback (most recent call last)",
      "Cell \u001b[0;32mIn[3], line 39\u001b[0m\n\u001b[1;32m     36\u001b[0m ct_scan_data, metadata \u001b[38;5;241m=\u001b[39m load_mhd_dataset(data_dir)\n\u001b[1;32m     38\u001b[0m \u001b[38;5;28mprint\u001b[39m(\u001b[38;5;124mf\u001b[39m\u001b[38;5;124m\"\u001b[39m\u001b[38;5;124mLoaded CT scan data with \u001b[39m\u001b[38;5;132;01m{\u001b[39;00m\u001b[38;5;28mlen\u001b[39m(ct_scan_data)\u001b[38;5;132;01m}\u001b[39;00m\u001b[38;5;124m scans.\u001b[39m\u001b[38;5;124m\"\u001b[39m)\n\u001b[0;32m---> 39\u001b[0m \u001b[38;5;28mprint\u001b[39m(\u001b[38;5;124mf\u001b[39m\u001b[38;5;124m\"\u001b[39m\u001b[38;5;124mMetadata for first scan: \u001b[39m\u001b[38;5;132;01m{\u001b[39;00m\u001b[43mmetadata\u001b[49m\u001b[43m[\u001b[49m\u001b[38;5;241;43m0\u001b[39;49m\u001b[43m]\u001b[49m\u001b[38;5;132;01m}\u001b[39;00m\u001b[38;5;124m\"\u001b[39m)\n",
      "\u001b[0;31mIndexError\u001b[0m: list index out of range"
     ]
    }
   ],
   "source": [
    "import os\n",
    "import SimpleITK as sitk\n",
    "import numpy as np\n",
    "\n",
    "def load_mhd_dataset(data_dir):\n",
    "    ct_data_list = []  # List to store CT scan data\n",
    "    metadata_list = []  # List to store metadata (spacing, origin, direction)\n",
    "\n",
    "    mhd_files = [f for f in os.listdir(data_dir) if f.lower().endswith('.mhd')]\n",
    "\n",
    "    for filename in mhd_files:\n",
    "        file_path = os.path.join(data_dir, filename)\n",
    "\n",
    "        try:\n",
    "            # Load the MHD file using SimpleITK\n",
    "            ct_image = sitk.ReadImage(file_path)\n",
    "\n",
    "            # Convert the SimpleITK image to a NumPy array\n",
    "            ct_data = sitk.GetArrayFromImage(ct_image)\n",
    "\n",
    "            # Extract metadata if needed\n",
    "            spacing = ct_image.GetSpacing()\n",
    "            origin = ct_image.GetOrigin()\n",
    "            direction = ct_image.GetDirection()\n",
    "\n",
    "            # Append data and metadata to lists\n",
    "            ct_data_list.append(ct_data)\n",
    "            metadata_list.append({'spacing': spacing, 'origin': origin, 'direction': direction})\n",
    "        except Exception as e:\n",
    "            print(f\"Error loading file {file_path}: {str(e)}\")\n",
    "\n",
    "    return ct_data_list, metadata_list\n",
    "\n",
    "# Example usage:\n",
    "data_dir = '/kaggle/input/ct-scan/'  # Replace with your input directory path\n",
    "ct_scan_data, metadata = load_mhd_dataset(data_dir)\n",
    "\n",
    "print(f\"Loaded CT scan data with {len(ct_scan_data)} scans.\")\n",
    "print(f\"Metadata for first scan: {metadata[0]}\")"
   ]
  },
  {
   "cell_type": "code",
   "execution_count": null,
   "id": "e983940a",
   "metadata": {
    "execution": {
     "iopub.execute_input": "2024-04-02T04:38:02.021122Z",
     "iopub.status.busy": "2024-04-02T04:38:02.020716Z",
     "iopub.status.idle": "2024-04-02T04:38:20.161539Z",
     "shell.execute_reply": "2024-04-02T04:38:20.160414Z",
     "shell.execute_reply.started": "2024-04-02T04:38:02.021091Z"
    },
    "papermill": {
     "duration": null,
     "end_time": null,
     "exception": null,
     "start_time": null,
     "status": "pending"
    },
    "tags": []
   },
   "outputs": [],
   "source": [
    "import SimpleITK as sitk\n",
    "from sklearn.model_selection import train_test_split\n",
    "import matplotlib.pyplot as plt\n",
    "import os\n",
    "from sklearn.preprocessing import StandardScaler\n",
    "import numpy as np\n",
    "from tensorflow.keras.models import Model\n",
    "from tensorflow.keras.layers import Input, Conv2D, MaxPooling2D, Flatten, Dense, concatenate\n",
    "from tensorflow.keras.optimizers import Adam\n",
    "from tensorflow.keras.losses import MeanSquaredError\n",
    "from tensorflow.keras.metrics import MeanAbsoluteError\n",
    "import logging\n",
    "from tensorflow.keras.preprocessing.image import ImageDataGenerator\n",
    "from tensorflow_estimator.python.estimator.canned.timeseries import model\n"
   ]
  },
  {
   "cell_type": "code",
   "execution_count": null,
   "id": "e0353945",
   "metadata": {
    "execution": {
     "iopub.execute_input": "2024-04-02T04:38:39.723111Z",
     "iopub.status.busy": "2024-04-02T04:38:39.722305Z",
     "iopub.status.idle": "2024-04-02T04:38:59.601732Z",
     "shell.execute_reply": "2024-04-02T04:38:59.600712Z",
     "shell.execute_reply.started": "2024-04-02T04:38:39.723077Z"
    },
    "papermill": {
     "duration": null,
     "end_time": null,
     "exception": null,
     "start_time": null,
     "status": "pending"
    },
    "tags": []
   },
   "outputs": [],
   "source": [
    "ct_data = np.load('/kaggle/input/loaded-dataset/ct_data_list.npy', allow_pickle=True)"
   ]
  },
  {
   "cell_type": "code",
   "execution_count": null,
   "id": "79e73172",
   "metadata": {
    "execution": {
     "iopub.execute_input": "2024-03-31T16:39:01.690241Z",
     "iopub.status.busy": "2024-03-31T16:39:01.689885Z",
     "iopub.status.idle": "2024-03-31T16:39:01.721336Z",
     "shell.execute_reply": "2024-03-31T16:39:01.720250Z",
     "shell.execute_reply.started": "2024-03-31T16:39:01.690216Z"
    },
    "papermill": {
     "duration": null,
     "end_time": null,
     "exception": null,
     "start_time": null,
     "status": "pending"
    },
    "tags": []
   },
   "outputs": [],
   "source": [
    "print(ct_data)"
   ]
  },
  {
   "cell_type": "code",
   "execution_count": null,
   "id": "e1316578",
   "metadata": {
    "execution": {
     "iopub.execute_input": "2024-04-02T04:39:25.012939Z",
     "iopub.status.busy": "2024-04-02T04:39:25.012547Z",
     "iopub.status.idle": "2024-04-02T04:39:25.026433Z",
     "shell.execute_reply": "2024-04-02T04:39:25.024963Z",
     "shell.execute_reply.started": "2024-04-02T04:39:25.012903Z"
    },
    "papermill": {
     "duration": null,
     "end_time": null,
     "exception": null,
     "start_time": null,
     "status": "pending"
    },
    "tags": []
   },
   "outputs": [],
   "source": [
    "def register_image(image):\n",
    "   \n",
    "    # Define a reference image for registration (e.g., the first CT data in the list)\n",
    "    reference_image = sitk.GetImageFromArray(ct_data[0])\n",
    "\n",
    "    # Ensure both images are of type itk::simple::Image\n",
    "    if not isinstance(reference_image, sitk.Image):\n",
    "        reference_image = sitk.GetImageFromArray(reference_image)\n",
    "    if not isinstance(image, sitk.Image):\n",
    "        image = sitk.GetImageFromArray(image)\n",
    "\n",
    "    # Create a rigid transform and set the center of rotation to the image center\n",
    "    transform = sitk.Euler3DTransform()\n",
    "\n",
    "    # Set the center of rotation to the image center\n",
    "    transform.SetCenter(\n",
    "        reference_image.TransformContinuousIndexToPhysicalPoint([size / 2 for size in reference_image.GetSize()]))\n",
    "\n",
    "    # Initialize the transform with the current centering\n",
    "    transform.SetTranslation((0, 0, 0))\n",
    "\n",
    "    # Set the rotation angles to zero\n",
    "    transform.SetRotation(0, 0, 0)\n",
    "\n",
    "    registration_method = sitk.ImageRegistrationMethod()\n",
    "\n",
    "    # Set the similarity metric (e.g., mutual information)\n",
    "    registration_method.SetMetricAsMattesMutualInformation(numberOfHistogramBins=50)\n",
    "    registration_method.SetMetricSamplingStrategy(registration_method.RANDOM)\n",
    "    registration_method.SetMetricSamplingPercentage(0.01)\n",
    "\n",
    "    # Set the optimizer (e.g., gradient descent)\n",
    "    registration_method.SetOptimizerAsGradientDescent(learningRate=1.0, numberOfIterations=100,\n",
    "                                                      estimateLearningRate=registration_method.EachIteration)\n",
    "\n",
    "    # Set the interpolator\n",
    "    registration_method.SetInterpolator(sitk.sitkLinear)\n",
    "\n",
    "    # Register the images\n",
    "    registration_method.SetInitialTransform(transform)\n",
    "    final_transform = registration_method.Execute(reference_image, image)\n",
    "\n",
    "    # Apply the registration transform to the input image\n",
    "    registered_image = sitk.Resample(image, reference_image, final_transform, sitk.sitkLinear, 0.0, image.GetPixelID())\n",
    "    # Display the images side by side\n",
    "    # display_images_side_by_side(ct_train_data[0], registered_image)\n",
    "    # Save the registration model checkpoint\n",
    "    # registration_checkpoint_path = os.path.join(checkpoint_dir, 'registration_checkpoint.h5')\n",
    "    # model.save(registration_checkpoint_path)\n",
    "    # logging.info(f\"Image registration completed. Checkpoint saved at {registration_checkpoint_path}\")\n",
    "\n",
    "    return registered_image"
   ]
  },
  {
   "cell_type": "code",
   "execution_count": null,
   "id": "31b7e633",
   "metadata": {
    "execution": {
     "iopub.execute_input": "2024-04-02T04:39:28.419272Z",
     "iopub.status.busy": "2024-04-02T04:39:28.418845Z",
     "iopub.status.idle": "2024-04-02T04:39:28.434127Z",
     "shell.execute_reply": "2024-04-02T04:39:28.432360Z",
     "shell.execute_reply.started": "2024-04-02T04:39:28.419241Z"
    },
    "papermill": {
     "duration": null,
     "end_time": null,
     "exception": null,
     "start_time": null,
     "status": "pending"
    },
    "tags": []
   },
   "outputs": [],
   "source": [
    "def normalize_and_standardize(image):\n",
    "    # Convert the SimpleITK image to a NumPy array\n",
    "    image_array = sitk.GetArrayFromImage(image)\n",
    "\n",
    "    # Flatten the image for standardization\n",
    "    flattened_image = image_array.flatten().reshape(-1, 1)\n",
    "\n",
    "    # Use StandardScaler for normalization and standardization\n",
    "    scaler = StandardScaler()\n",
    "    normalized_and_standardized_image = scaler.fit_transform(flattened_image)\n",
    "\n",
    "    # Reshape the image back to its original shape\n",
    "    normalized_and_standardized_image = normalized_and_standardized_image.reshape(image_array.shape)\n",
    "\n",
    "    # Convert the NumPy array back to a SimpleITK image\n",
    "    normalized_and_standardized_image = sitk.GetImageFromArray(normalized_and_standardized_image)\n",
    "\n",
    "    return normalized_and_standardized_image\n",
    "\n",
    "\n",
    "def display_images_side_by_side(original_image, registered_image, slice_axis=0, title1='Original Image',\n",
    "                                title2='Registered Image'):\n",
    "    # Check if the input is a SimpleITK image or a NumPy array\n",
    "    if isinstance(original_image, sitk.Image):\n",
    "        original_array = sitk.GetArrayFromImage(original_image)\n",
    "    elif isinstance(original_image, np.ndarray):\n",
    "        original_array = original_image\n",
    "    else:\n",
    "        raise ValueError(\"Unsupported data type for original_image\")\n",
    "\n",
    "    if isinstance(registered_image, sitk.Image):\n",
    "        registered_array = sitk.GetArrayFromImage(registered_image)\n",
    "    elif isinstance(registered_image, np.ndarray):\n",
    "        registered_array = registered_image\n",
    "    else:\n",
    "        raise ValueError(\"Unsupported data type for registered_image\")\n",
    "\n",
    "    # Choose a slice along the specified axis\n",
    "    slice_index = original_array.shape[slice_axis] // 2\n",
    "\n",
    "    # Plot the original and registered images side by side\n",
    "    plt.figure(figsize=(12, 6))\n",
    "\n",
    "    # Original image\n",
    "    plt.subplot(1, 2, 1)\n",
    "    plt.imshow(original_array.take(slice_index, axis=slice_axis), cmap='gray')\n",
    "    plt.title(f'{title1} (Slice {slice_index} along Axis {slice_axis})')\n",
    "    plt.axis('off')\n",
    "\n",
    "    # Registered image\n",
    "    plt.subplot(1, 2, 2)\n",
    "    plt.imshow(registered_array.take(slice_index, axis=slice_axis), cmap='gray')\n",
    "    plt.title(f'{title2} (Slice {slice_index} along Axis {slice_axis})')\n",
    "    plt.axis('off')\n",
    "\n",
    "    plt.show()"
   ]
  },
  {
   "cell_type": "code",
   "execution_count": null,
   "id": "b9788251",
   "metadata": {
    "execution": {
     "iopub.execute_input": "2024-04-02T04:39:33.034429Z",
     "iopub.status.busy": "2024-04-02T04:39:33.033515Z",
     "iopub.status.idle": "2024-04-02T04:39:33.044061Z",
     "shell.execute_reply": "2024-04-02T04:39:33.042647Z",
     "shell.execute_reply.started": "2024-04-02T04:39:33.034369Z"
    },
    "papermill": {
     "duration": null,
     "end_time": null,
     "exception": null,
     "start_time": null,
     "status": "pending"
    },
    "tags": []
   },
   "outputs": [],
   "source": [
    "ct_train_data, ct_test_data = train_test_split(ct_data, test_size=0.2,\n",
    "                                               random_state=42)"
   ]
  },
  {
   "cell_type": "code",
   "execution_count": null,
   "id": "2d213e9e",
   "metadata": {
    "execution": {
     "iopub.execute_input": "2024-04-02T04:39:36.335912Z",
     "iopub.status.busy": "2024-04-02T04:39:36.335534Z",
     "iopub.status.idle": "2024-04-02T04:42:03.855394Z",
     "shell.execute_reply": "2024-04-02T04:42:03.853094Z",
     "shell.execute_reply.started": "2024-04-02T04:39:36.335885Z"
    },
    "papermill": {
     "duration": null,
     "end_time": null,
     "exception": null,
     "start_time": null,
     "status": "pending"
    },
    "tags": []
   },
   "outputs": [],
   "source": [
    "ct_train_data = [normalize_and_standardize(register_image(ct_image)) for ct_image in ct_train_data]"
   ]
  },
  {
   "cell_type": "code",
   "execution_count": null,
   "id": "94788ae3",
   "metadata": {
    "execution": {
     "iopub.execute_input": "2024-04-02T04:42:09.648931Z",
     "iopub.status.busy": "2024-04-02T04:42:09.648005Z",
     "iopub.status.idle": "2024-04-02T04:42:45.441296Z",
     "shell.execute_reply": "2024-04-02T04:42:45.438810Z",
     "shell.execute_reply.started": "2024-04-02T04:42:09.648868Z"
    },
    "papermill": {
     "duration": null,
     "end_time": null,
     "exception": null,
     "start_time": null,
     "status": "pending"
    },
    "tags": []
   },
   "outputs": [],
   "source": [
    "ct_test_data = [normalize_and_standardize(register_image(ct_image)) for ct_image in ct_test_data]"
   ]
  },
  {
   "cell_type": "code",
   "execution_count": null,
   "id": "bab9c10a",
   "metadata": {
    "execution": {
     "iopub.execute_input": "2024-03-31T16:44:04.197459Z",
     "iopub.status.busy": "2024-03-31T16:44:04.196649Z",
     "iopub.status.idle": "2024-03-31T16:44:04.202484Z",
     "shell.execute_reply": "2024-03-31T16:44:04.201469Z",
     "shell.execute_reply.started": "2024-03-31T16:44:04.197427Z"
    },
    "papermill": {
     "duration": null,
     "end_time": null,
     "exception": null,
     "start_time": null,
     "status": "pending"
    },
    "tags": []
   },
   "outputs": [],
   "source": [
    "print(ct_train_data)"
   ]
  },
  {
   "cell_type": "code",
   "execution_count": null,
   "id": "f6c817e3",
   "metadata": {
    "execution": {
     "iopub.execute_input": "2024-04-02T04:42:49.117461Z",
     "iopub.status.busy": "2024-04-02T04:42:49.117016Z",
     "iopub.status.idle": "2024-04-02T04:42:49.124349Z",
     "shell.execute_reply": "2024-04-02T04:42:49.122934Z",
     "shell.execute_reply.started": "2024-04-02T04:42:49.117425Z"
    },
    "papermill": {
     "duration": null,
     "end_time": null,
     "exception": null,
     "start_time": null,
     "status": "pending"
    },
    "tags": []
   },
   "outputs": [],
   "source": [
    "# Convert SimpleITK images to numpy arrays\n",
    "def sitk_to_array(image):\n",
    "    image_array = sitk.GetArrayFromImage(image)\n",
    "    return np.expand_dims(image_array, axis=-1)  # Add a channel dimension\n"
   ]
  },
  {
   "cell_type": "code",
   "execution_count": null,
   "id": "738d328d",
   "metadata": {
    "execution": {
     "iopub.execute_input": "2024-04-02T04:42:51.787055Z",
     "iopub.status.busy": "2024-04-02T04:42:51.786653Z",
     "iopub.status.idle": "2024-04-02T04:42:51.940042Z",
     "shell.execute_reply": "2024-04-02T04:42:51.938720Z",
     "shell.execute_reply.started": "2024-04-02T04:42:51.787025Z"
    },
    "papermill": {
     "duration": null,
     "end_time": null,
     "exception": null,
     "start_time": null,
     "status": "pending"
    },
    "tags": []
   },
   "outputs": [],
   "source": [
    "import SimpleITK as sitk\n",
    "from skimage.transform import resize\n",
    "\n",
    "def preprocess_image(image, target_size=(224, 224)):\n",
    "    # Convert SimpleITK image to numpy array\n",
    "    image_array = sitk.GetArrayFromImage(image)\n",
    "    \n",
    "    # Resize image to target size\n",
    "    resized_image = resize(image_array, target_size, anti_aliasing=True)\n",
    "    \n",
    "    # Normalize pixel values to range [0, 1]\n",
    "    normalized_image = resized_image / 255.0\n",
    "    \n",
    "    return normalized_image"
   ]
  },
  {
   "cell_type": "code",
   "execution_count": null,
   "id": "90c210c3",
   "metadata": {
    "execution": {
     "iopub.execute_input": "2024-04-02T04:42:54.735223Z",
     "iopub.status.busy": "2024-04-02T04:42:54.733674Z",
     "iopub.status.idle": "2024-04-02T04:43:18.696423Z",
     "shell.execute_reply": "2024-04-02T04:43:18.695094Z",
     "shell.execute_reply.started": "2024-04-02T04:42:54.735184Z"
    },
    "papermill": {
     "duration": null,
     "end_time": null,
     "exception": null,
     "start_time": null,
     "status": "pending"
    },
    "tags": []
   },
   "outputs": [],
   "source": [
    "# Preprocess your images (e.g., resize, normalize)\n",
    "preprocessed_images = [preprocess_image(image) for image in ct_train_data]  # You need to implement preprocess_image()\n"
   ]
  },
  {
   "cell_type": "code",
   "execution_count": null,
   "id": "bb1e4d8c",
   "metadata": {
    "execution": {
     "iopub.execute_input": "2024-04-02T04:45:09.849100Z",
     "iopub.status.busy": "2024-04-02T04:45:09.848593Z",
     "iopub.status.idle": "2024-04-02T04:45:10.504986Z",
     "shell.execute_reply": "2024-04-02T04:45:10.503729Z",
     "shell.execute_reply.started": "2024-04-02T04:45:09.849064Z"
    },
    "papermill": {
     "duration": null,
     "end_time": null,
     "exception": null,
     "start_time": null,
     "status": "pending"
    },
    "tags": []
   },
   "outputs": [],
   "source": [
    "X_train = np.array(preprocessed_images)"
   ]
  },
  {
   "cell_type": "code",
   "execution_count": null,
   "id": "a261cb1a",
   "metadata": {
    "execution": {
     "iopub.execute_input": "2024-03-31T16:54:51.283102Z",
     "iopub.status.busy": "2024-03-31T16:54:51.282318Z",
     "iopub.status.idle": "2024-03-31T16:54:51.297467Z",
     "shell.execute_reply": "2024-03-31T16:54:51.296621Z",
     "shell.execute_reply.started": "2024-03-31T16:54:51.283064Z"
    },
    "papermill": {
     "duration": null,
     "end_time": null,
     "exception": null,
     "start_time": null,
     "status": "pending"
    },
    "tags": []
   },
   "outputs": [],
   "source": [
    "print(X_train\n",
    ")"
   ]
  },
  {
   "cell_type": "code",
   "execution_count": null,
   "id": "feff5a41",
   "metadata": {
    "execution": {
     "iopub.execute_input": "2024-03-31T17:57:48.999629Z",
     "iopub.status.busy": "2024-03-31T17:57:48.999156Z",
     "iopub.status.idle": "2024-03-31T17:57:49.009726Z",
     "shell.execute_reply": "2024-03-31T17:57:49.008014Z",
     "shell.execute_reply.started": "2024-03-31T17:57:48.999595Z"
    },
    "papermill": {
     "duration": null,
     "end_time": null,
     "exception": null,
     "start_time": null,
     "status": "pending"
    },
    "tags": []
   },
   "outputs": [],
   "source": [
    "from tensorflow.keras import layers, models\n",
    "\n",
    "def create_model(input_shape, num_classes):\n",
    "    model = models.Sequential()\n",
    "    \n",
    "    # Convolutional layers\n",
    "    model.add(layers.Conv2D(32, (3, 3), activation='relu', input_shape=input_shape))\n",
    "    model.add(layers.MaxPooling2D((2, 2)))\n",
    "    model.add(layers.Conv2D(64, (3, 3), activation='relu'))\n",
    "    model.add(layers.MaxPooling2D((2, 2)))\n",
    "    model.add(layers.Conv2D(64, (3, 3), activation='relu'))\n",
    "    \n",
    "    # Flatten layer\n",
    "    model.add(layers.Flatten())\n",
    "    \n",
    "    # Fully connected layers\n",
    "    model.add(layers.Dense(64, activation='relu'))\n",
    "    model.add(layers.Dense(num_classes, activation='softmax'))\n",
    "    \n",
    "    # Compile the model\n",
    "    model.compile(optimizer='adam',\n",
    "                  loss='sparse_categorical_crossentropy',\n",
    "                  metrics=['accuracy'])\n",
    "    \n",
    "    return model"
   ]
  },
  {
   "cell_type": "code",
   "execution_count": null,
   "id": "6b35876b",
   "metadata": {
    "execution": {
     "iopub.execute_input": "2024-03-31T17:59:34.510183Z",
     "iopub.status.busy": "2024-03-31T17:59:34.509752Z",
     "iopub.status.idle": "2024-03-31T17:59:34.516178Z",
     "shell.execute_reply": "2024-03-31T17:59:34.515092Z",
     "shell.execute_reply.started": "2024-03-31T17:59:34.510151Z"
    },
    "papermill": {
     "duration": null,
     "end_time": null,
     "exception": null,
     "start_time": null,
     "status": "pending"
    },
    "tags": []
   },
   "outputs": [],
   "source": [
    "# Assuming X_train is a numpy array\n",
    "input_shape = X_train[0].shape\n",
    "for sample in X_train:\n",
    "    if sample.shape != input_shape:\n",
    "        print(\"Input shapes are not consistent!\")\n",
    "        break\n",
    "else:\n",
    "    print(\"All elements in X_train have the same input shape.\")"
   ]
  },
  {
   "cell_type": "code",
   "execution_count": null,
   "id": "0fc73cb7",
   "metadata": {
    "execution": {
     "iopub.execute_input": "2024-03-31T17:59:43.142003Z",
     "iopub.status.busy": "2024-03-31T17:59:43.141591Z",
     "iopub.status.idle": "2024-03-31T17:59:43.149010Z",
     "shell.execute_reply": "2024-03-31T17:59:43.147673Z",
     "shell.execute_reply.started": "2024-03-31T17:59:43.141972Z"
    },
    "papermill": {
     "duration": null,
     "end_time": null,
     "exception": null,
     "start_time": null,
     "status": "pending"
    },
    "tags": []
   },
   "outputs": [],
   "source": [
    "print(input_shape)"
   ]
  },
  {
   "cell_type": "code",
   "execution_count": null,
   "id": "51f9b51c",
   "metadata": {
    "execution": {
     "iopub.execute_input": "2024-03-31T18:00:30.181397Z",
     "iopub.status.busy": "2024-03-31T18:00:30.180943Z",
     "iopub.status.idle": "2024-03-31T18:00:30.361845Z",
     "shell.execute_reply": "2024-03-31T18:00:30.360658Z",
     "shell.execute_reply.started": "2024-03-31T18:00:30.181368Z"
    },
    "papermill": {
     "duration": null,
     "end_time": null,
     "exception": null,
     "start_time": null,
     "status": "pending"
    },
    "tags": []
   },
   "outputs": [],
   "source": [
    "input_shape = (224, 224, 512)  # Example input shape\n",
    "num_classes = 10  # Example number of classes\n",
    "\n",
    "model = create_model(input_shape, num_classes)"
   ]
  },
  {
   "cell_type": "code",
   "execution_count": null,
   "id": "b624000f",
   "metadata": {
    "execution": {
     "iopub.execute_input": "2024-03-31T18:00:42.354579Z",
     "iopub.status.busy": "2024-03-31T18:00:42.354176Z",
     "iopub.status.idle": "2024-03-31T18:00:42.395215Z",
     "shell.execute_reply": "2024-03-31T18:00:42.394178Z",
     "shell.execute_reply.started": "2024-03-31T18:00:42.354548Z"
    },
    "papermill": {
     "duration": null,
     "end_time": null,
     "exception": null,
     "start_time": null,
     "status": "pending"
    },
    "tags": []
   },
   "outputs": [],
   "source": [
    "model.summary()"
   ]
  },
  {
   "cell_type": "code",
   "execution_count": null,
   "id": "1ac42f1a",
   "metadata": {
    "execution": {
     "iopub.execute_input": "2024-03-31T18:02:31.928457Z",
     "iopub.status.busy": "2024-03-31T18:02:31.928019Z",
     "iopub.status.idle": "2024-03-31T18:02:35.534792Z",
     "shell.execute_reply": "2024-03-31T18:02:35.533131Z",
     "shell.execute_reply.started": "2024-03-31T18:02:31.928429Z"
    },
    "papermill": {
     "duration": null,
     "end_time": null,
     "exception": null,
     "start_time": null,
     "status": "pending"
    },
    "tags": []
   },
   "outputs": [],
   "source": [
    "model.fit(X_train, X_train, epochs=10, batch_size=32, validation_split=0.2)"
   ]
  },
  {
   "cell_type": "code",
   "execution_count": null,
   "id": "f12901c4",
   "metadata": {
    "execution": {
     "iopub.execute_input": "2024-04-02T04:45:31.253147Z",
     "iopub.status.busy": "2024-04-02T04:45:31.252741Z",
     "iopub.status.idle": "2024-04-02T04:45:31.513329Z",
     "shell.execute_reply": "2024-04-02T04:45:31.512105Z",
     "shell.execute_reply.started": "2024-04-02T04:45:31.253117Z"
    },
    "papermill": {
     "duration": null,
     "end_time": null,
     "exception": null,
     "start_time": null,
     "status": "pending"
    },
    "tags": []
   },
   "outputs": [],
   "source": [
    "from tensorflow.keras import layers, models\n",
    "\n",
    "def create_autoencoder(input_shape):\n",
    "    model = models.Sequential()\n",
    "    \n",
    "    # Encoder\n",
    "    model.add(layers.Conv2D(32, (3, 3), activation='relu', padding='same', input_shape=input_shape))\n",
    "    model.add(layers.MaxPooling2D((2, 2), padding='same'))\n",
    "    \n",
    "    # Decoder\n",
    "    model.add(layers.Conv2DTranspose(32, (3, 3), activation='relu', padding='same'))\n",
    "    model.add(layers.UpSampling2D((2, 2)))\n",
    "    model.add(layers.Conv2DTranspose(512, (3, 3), activation='sigmoid', padding='same'))  # Adjust activation and output shape\n",
    "    \n",
    "    return model\n",
    "\n",
    "# Assuming input_shape is (224, 224, 512)\n",
    "input_shape = (224, 224, 512)\n",
    "autoencoder_model = create_autoencoder(input_shape)\n",
    "\n",
    "# Compile the model\n",
    "autoencoder_model.compile(optimizer='adam', loss='binary_crossentropy')\n",
    "\n",
    "autoencoder_model.summary()"
   ]
  },
  {
   "cell_type": "code",
   "execution_count": null,
   "id": "52301d80",
   "metadata": {
    "execution": {
     "iopub.execute_input": "2024-04-02T04:45:35.588756Z",
     "iopub.status.busy": "2024-04-02T04:45:35.588222Z",
     "iopub.status.idle": "2024-04-02T04:48:50.091302Z",
     "shell.execute_reply": "2024-04-02T04:48:50.089973Z",
     "shell.execute_reply.started": "2024-04-02T04:45:35.588722Z"
    },
    "papermill": {
     "duration": null,
     "end_time": null,
     "exception": null,
     "start_time": null,
     "status": "pending"
    },
    "tags": []
   },
   "outputs": [],
   "source": [
    "autoencoder_model.fit(X_train, X_train, epochs=10, batch_size=32, validation_split=0.2)"
   ]
  },
  {
   "cell_type": "code",
   "execution_count": null,
   "id": "60fe02da",
   "metadata": {
    "execution": {
     "iopub.execute_input": "2024-04-02T04:49:03.711148Z",
     "iopub.status.busy": "2024-04-02T04:49:03.710168Z",
     "iopub.status.idle": "2024-04-02T04:49:03.717272Z",
     "shell.execute_reply": "2024-04-02T04:49:03.715655Z",
     "shell.execute_reply.started": "2024-04-02T04:49:03.711084Z"
    },
    "papermill": {
     "duration": null,
     "end_time": null,
     "exception": null,
     "start_time": null,
     "status": "pending"
    },
    "tags": []
   },
   "outputs": [],
   "source": [
    "import matplotlib.pyplot as plt"
   ]
  },
  {
   "cell_type": "code",
   "execution_count": null,
   "id": "cad58f0d",
   "metadata": {
    "execution": {
     "iopub.execute_input": "2024-04-02T04:50:05.258171Z",
     "iopub.status.busy": "2024-04-02T04:50:05.257740Z",
     "iopub.status.idle": "2024-04-02T04:54:02.745854Z",
     "shell.execute_reply": "2024-04-02T04:54:02.744640Z",
     "shell.execute_reply.started": "2024-04-02T04:50:05.258139Z"
    },
    "papermill": {
     "duration": null,
     "end_time": null,
     "exception": null,
     "start_time": null,
     "status": "pending"
    },
    "tags": []
   },
   "outputs": [],
   "source": [
    "# 1. Evaluate the performance\n",
    "history = autoencoder_model.fit(X_train, X_train, epochs=10, batch_size=32, validation_split=0.2)\n"
   ]
  },
  {
   "cell_type": "code",
   "execution_count": null,
   "id": "33f0a37d",
   "metadata": {
    "execution": {
     "iopub.execute_input": "2024-04-02T04:54:12.768579Z",
     "iopub.status.busy": "2024-04-02T04:54:12.767798Z",
     "iopub.status.idle": "2024-04-02T04:54:21.072239Z",
     "shell.execute_reply": "2024-04-02T04:54:21.071326Z",
     "shell.execute_reply.started": "2024-04-02T04:54:12.768538Z"
    },
    "papermill": {
     "duration": null,
     "end_time": null,
     "exception": null,
     "start_time": null,
     "status": "pending"
    },
    "tags": []
   },
   "outputs": [],
   "source": [
    "# Preprocess your images (e.g., resize, normalize)\n",
    "preprocessed_images = [preprocess_image(image) for image in ct_test_data]  # You need to implement preprocess_image()\n"
   ]
  },
  {
   "cell_type": "code",
   "execution_count": null,
   "id": "e4047820",
   "metadata": {
    "execution": {
     "iopub.execute_input": "2024-04-02T04:54:24.365686Z",
     "iopub.status.busy": "2024-04-02T04:54:24.365175Z",
     "iopub.status.idle": "2024-04-02T04:54:24.510777Z",
     "shell.execute_reply": "2024-04-02T04:54:24.509450Z",
     "shell.execute_reply.started": "2024-04-02T04:54:24.365650Z"
    },
    "papermill": {
     "duration": null,
     "end_time": null,
     "exception": null,
     "start_time": null,
     "status": "pending"
    },
    "tags": []
   },
   "outputs": [],
   "source": [
    "X_test = np.array(preprocessed_images)"
   ]
  },
  {
   "cell_type": "code",
   "execution_count": null,
   "id": "1ba53117",
   "metadata": {
    "execution": {
     "iopub.execute_input": "2024-03-31T18:16:16.036204Z",
     "iopub.status.busy": "2024-03-31T18:16:16.035432Z",
     "iopub.status.idle": "2024-03-31T18:16:16.048222Z",
     "shell.execute_reply": "2024-03-31T18:16:16.046991Z",
     "shell.execute_reply.started": "2024-03-31T18:16:16.036168Z"
    },
    "papermill": {
     "duration": null,
     "end_time": null,
     "exception": null,
     "start_time": null,
     "status": "pending"
    },
    "tags": []
   },
   "outputs": [],
   "source": [
    "print(X_test)"
   ]
  },
  {
   "cell_type": "code",
   "execution_count": null,
   "id": "f5177d33",
   "metadata": {
    "execution": {
     "iopub.execute_input": "2024-04-02T04:54:31.590632Z",
     "iopub.status.busy": "2024-04-02T04:54:31.589449Z",
     "iopub.status.idle": "2024-04-02T04:54:32.012757Z",
     "shell.execute_reply": "2024-04-02T04:54:32.011270Z",
     "shell.execute_reply.started": "2024-04-02T04:54:31.590591Z"
    },
    "papermill": {
     "duration": null,
     "end_time": null,
     "exception": null,
     "start_time": null,
     "status": "pending"
    },
    "tags": []
   },
   "outputs": [],
   "source": [
    "plt.plot(history.history['loss'], label='Training Loss')\n",
    "plt.plot(history.history['val_loss'], label='Validation Loss')\n",
    "plt.xlabel('Epoch')\n",
    "plt.ylabel('Loss')\n",
    "plt.title('Training and Validation Loss')\n",
    "plt.legend()\n",
    "plt.show()\n"
   ]
  },
  {
   "cell_type": "code",
   "execution_count": null,
   "id": "66729837",
   "metadata": {
    "execution": {
     "iopub.execute_input": "2024-04-02T04:55:07.238687Z",
     "iopub.status.busy": "2024-04-02T04:55:07.237687Z",
     "iopub.status.idle": "2024-04-02T04:55:08.159717Z",
     "shell.execute_reply": "2024-04-02T04:55:08.157603Z",
     "shell.execute_reply.started": "2024-04-02T04:55:07.238642Z"
    },
    "papermill": {
     "duration": null,
     "end_time": null,
     "exception": null,
     "start_time": null,
     "status": "pending"
    },
    "tags": []
   },
   "outputs": [],
   "source": [
    "# Visualize some example input images and their reconstructions\n",
    "decoded_imgs = model.predict(X_test)\n"
   ]
  },
  {
   "cell_type": "code",
   "execution_count": null,
   "id": "68e5c208",
   "metadata": {
    "execution": {
     "iopub.execute_input": "2024-03-31T18:23:08.901722Z",
     "iopub.status.busy": "2024-03-31T18:23:08.900958Z",
     "iopub.status.idle": "2024-03-31T18:23:09.123227Z",
     "shell.execute_reply": "2024-03-31T18:23:09.122000Z",
     "shell.execute_reply.started": "2024-03-31T18:23:08.901687Z"
    },
    "papermill": {
     "duration": null,
     "end_time": null,
     "exception": null,
     "start_time": null,
     "status": "pending"
    },
    "tags": []
   },
   "outputs": [],
   "source": [
    "import matplotlib.pyplot as plt\n",
    "\n",
    "n = 5  # Number of images to visualize\n",
    "plt.figure(figsize=(10, 4))\n",
    "for i in range(n):\n",
    "    # Display original\n",
    "    ax = plt.subplot(2, n, i + 1)\n",
    "    plt.imshow(X[i][:, :, 0], cmap='gray')  # Selecting the first channel\n",
    "    ax.get_xaxis().set_visible(False)\n",
    "    ax.get_yaxis().set_visible(False)\n",
    "\n",
    "plt.show()"
   ]
  },
  {
   "cell_type": "code",
   "execution_count": null,
   "id": "3b140365",
   "metadata": {
    "execution": {
     "iopub.execute_input": "2024-04-02T04:55:40.464086Z",
     "iopub.status.busy": "2024-04-02T04:55:40.463659Z",
     "iopub.status.idle": "2024-04-02T04:55:40.527701Z",
     "shell.execute_reply": "2024-04-02T04:55:40.526458Z",
     "shell.execute_reply.started": "2024-04-02T04:55:40.464054Z"
    },
    "papermill": {
     "duration": null,
     "end_time": null,
     "exception": null,
     "start_time": null,
     "status": "pending"
    },
    "tags": []
   },
   "outputs": [],
   "source": [
    "autoencoder_model.save(\"autoencoder_model.h5\")  # Save the model for future use"
   ]
  },
  {
   "cell_type": "code",
   "execution_count": null,
   "id": "67a807b0",
   "metadata": {
    "execution": {
     "iopub.execute_input": "2024-04-02T04:56:56.140341Z",
     "iopub.status.busy": "2024-04-02T04:56:56.139805Z",
     "iopub.status.idle": "2024-04-02T04:56:59.205854Z",
     "shell.execute_reply": "2024-04-02T04:56:59.204560Z",
     "shell.execute_reply.started": "2024-04-02T04:56:56.140306Z"
    },
    "papermill": {
     "duration": null,
     "end_time": null,
     "exception": null,
     "start_time": null,
     "status": "pending"
    },
    "tags": []
   },
   "outputs": [],
   "source": [
    "from keras.models import load_model\n",
    "\n",
    "# Load the saved autoencoder model\n",
    "autoencoder_model = load_model(\"autoencoder_model.h5\")\n",
    "\n",
    "# Predict using the autoencoder model on X_test\n",
    "decoded_imgs_test = autoencoder_model.predict(X_test)"
   ]
  },
  {
   "cell_type": "code",
   "execution_count": null,
   "id": "f8c0abf9",
   "metadata": {
    "execution": {
     "iopub.execute_input": "2024-03-31T18:25:23.390600Z",
     "iopub.status.busy": "2024-03-31T18:25:23.390219Z",
     "iopub.status.idle": "2024-03-31T18:25:23.401004Z",
     "shell.execute_reply": "2024-03-31T18:25:23.399799Z",
     "shell.execute_reply.started": "2024-03-31T18:25:23.390573Z"
    },
    "papermill": {
     "duration": null,
     "end_time": null,
     "exception": null,
     "start_time": null,
     "status": "pending"
    },
    "tags": []
   },
   "outputs": [],
   "source": [
    "print(decoded_imgs_test)"
   ]
  },
  {
   "cell_type": "code",
   "execution_count": null,
   "id": "5890f827",
   "metadata": {
    "execution": {
     "iopub.execute_input": "2024-04-02T05:04:43.006626Z",
     "iopub.status.busy": "2024-04-02T05:04:43.006042Z",
     "iopub.status.idle": "2024-04-02T05:04:43.224531Z",
     "shell.execute_reply": "2024-04-02T05:04:43.222740Z",
     "shell.execute_reply.started": "2024-04-02T05:04:43.006588Z"
    },
    "papermill": {
     "duration": null,
     "end_time": null,
     "exception": null,
     "start_time": null,
     "status": "pending"
    },
    "tags": []
   },
   "outputs": [],
   "source": [
    "n = 5  # Number of images to visualize\n",
    "plt.figure(figsize=(10, 4))\n",
    "for i in range(len(X_test)):\n",
    "    # Display original\n",
    "    ax = plt.subplot(2, n, i + 1)\n",
    "    plt.imshow(X_test[i][:, :, 0], cmap='gray')  # Selecting the first channel\n",
    "    ax.get_xaxis().set_visible(False)\n",
    "    ax.get_yaxis().set_visible(False)\n",
    "\n",
    "plt.show()"
   ]
  },
  {
   "cell_type": "code",
   "execution_count": null,
   "id": "1ca9307d",
   "metadata": {
    "execution": {
     "iopub.execute_input": "2024-04-02T05:04:44.070406Z",
     "iopub.status.busy": "2024-04-02T05:04:44.069978Z",
     "iopub.status.idle": "2024-04-02T05:04:44.126565Z",
     "shell.execute_reply": "2024-04-02T05:04:44.123621Z",
     "shell.execute_reply.started": "2024-04-02T05:04:44.070358Z"
    },
    "papermill": {
     "duration": null,
     "end_time": null,
     "exception": null,
     "start_time": null,
     "status": "pending"
    },
    "tags": []
   },
   "outputs": [],
   "source": [
    "display_images_side_by_side(X_test[0], ct_test[0])"
   ]
  },
  {
   "cell_type": "code",
   "execution_count": null,
   "id": "3e089d4c",
   "metadata": {
    "execution": {
     "iopub.execute_input": "2024-04-02T05:04:50.338242Z",
     "iopub.status.busy": "2024-04-02T05:04:50.336855Z",
     "iopub.status.idle": "2024-04-02T05:04:50.878661Z",
     "shell.execute_reply": "2024-04-02T05:04:50.877618Z",
     "shell.execute_reply.started": "2024-04-02T05:04:50.338191Z"
    },
    "papermill": {
     "duration": null,
     "end_time": null,
     "exception": null,
     "start_time": null,
     "status": "pending"
    },
    "tags": []
   },
   "outputs": [],
   "source": [
    "display_images_side_by_side(X_test[0], ct_test_data[0])"
   ]
  },
  {
   "cell_type": "code",
   "execution_count": null,
   "id": "4ef69c19",
   "metadata": {
    "execution": {
     "iopub.execute_input": "2024-04-02T05:04:54.224890Z",
     "iopub.status.busy": "2024-04-02T05:04:54.223864Z",
     "iopub.status.idle": "2024-04-02T05:04:55.050929Z",
     "shell.execute_reply": "2024-04-02T05:04:55.049022Z",
     "shell.execute_reply.started": "2024-04-02T05:04:54.224834Z"
    },
    "papermill": {
     "duration": null,
     "end_time": null,
     "exception": null,
     "start_time": null,
     "status": "pending"
    },
    "tags": []
   },
   "outputs": [],
   "source": [
    "\n",
    "display_images_side_by_side(X_test[0], decoded_imgs_test[0])"
   ]
  },
  {
   "cell_type": "code",
   "execution_count": null,
   "id": "01f99383",
   "metadata": {
    "execution": {
     "iopub.execute_input": "2024-03-31T18:33:19.863299Z",
     "iopub.status.busy": "2024-03-31T18:33:19.862901Z",
     "iopub.status.idle": "2024-03-31T18:33:20.156513Z",
     "shell.execute_reply": "2024-03-31T18:33:20.155009Z",
     "shell.execute_reply.started": "2024-03-31T18:33:19.863272Z"
    },
    "papermill": {
     "duration": null,
     "end_time": null,
     "exception": null,
     "start_time": null,
     "status": "pending"
    },
    "tags": []
   },
   "outputs": [],
   "source": [
    "from lime import lime_image\n",
    "from skimage.segmentation import mark_boundaries\n",
    "\n",
    "explainer = lime_image.LimeImageExplainer()\n",
    "\n",
    "# Select an image from decoded_imgs_test for explanation\n",
    "image_to_explain = decoded_imgs_test[0]\n",
    "\n",
    "# Define a function to predict on the decoded image\n",
    "def predict_function(images):\n",
    "    # Assuming model.predict(images) returns reconstructed images\n",
    "    return autoencoder_model.predict(images)\n",
    "\n",
    "# Reshape the image to (224, 224) if necessary\n",
    "image_to_explain = np.squeeze(image_to_explain)\n",
    "\n",
    "# Convert the grayscale image to RGB format (required by LIME)\n",
    "image_to_explain_rgb = np.stack((image_to_explain,) * 3, axis=-1)\n",
    "\n",
    "# Generate explanations for the selected image\n",
    "explanation = explainer.explain_instance(image_to_explain_rgb, predict_function)\n",
    "\n",
    "# Visualize the explanation\n",
    "temp, mask = explanation.get_image_and_mask(explanation.top_labels[0], positive_only=True, num_features=5, hide_rest=True)\n",
    "plt.imshow(mark_boundaries(temp / 2 + 0.5, mask))"
   ]
  },
  {
   "cell_type": "code",
   "execution_count": null,
   "id": "9d8b40d1",
   "metadata": {
    "execution": {
     "iopub.execute_input": "2024-03-31T18:34:07.761710Z",
     "iopub.status.busy": "2024-03-31T18:34:07.761079Z",
     "iopub.status.idle": "2024-03-31T18:34:08.193165Z",
     "shell.execute_reply": "2024-03-31T18:34:08.191549Z",
     "shell.execute_reply.started": "2024-03-31T18:34:07.761680Z"
    },
    "papermill": {
     "duration": null,
     "end_time": null,
     "exception": null,
     "start_time": null,
     "status": "pending"
    },
    "tags": []
   },
   "outputs": [],
   "source": [
    "import numpy as np\n",
    "\n",
    "# Convert grayscale image to RGB with same intensity across all channels\n",
    "image_to_explain_rgb = np.stack((image_to_explain,) * 3, axis=-1)\n",
    "\n",
    "# Generate explanations for the selected image\n",
    "explanation = explainer.explain_instance(image_to_explain_rgb, predict_function)"
   ]
  },
  {
   "cell_type": "code",
   "execution_count": null,
   "id": "713f8529",
   "metadata": {
    "execution": {
     "iopub.execute_input": "2024-03-31T18:34:38.471741Z",
     "iopub.status.busy": "2024-03-31T18:34:38.471307Z",
     "iopub.status.idle": "2024-03-31T18:34:38.562677Z",
     "shell.execute_reply": "2024-03-31T18:34:38.561398Z",
     "shell.execute_reply.started": "2024-03-31T18:34:38.471709Z"
    },
    "papermill": {
     "duration": null,
     "end_time": null,
     "exception": null,
     "start_time": null,
     "status": "pending"
    },
    "tags": []
   },
   "outputs": [],
   "source": [
    "import numpy as np\n",
    "\n",
    "# Reshape the image to remove the extra dimension\n",
    "image_to_explain_2d = image_to_explain.squeeze()\n",
    "\n",
    "# Generate explanations for the selected image\n",
    "explanation = explainer.explain_instance(image_to_explain_2d, predict_function)\n"
   ]
  },
  {
   "cell_type": "code",
   "execution_count": null,
   "id": "93595c6f",
   "metadata": {
    "execution": {
     "iopub.execute_input": "2024-03-31T18:37:15.864259Z",
     "iopub.status.busy": "2024-03-31T18:37:15.863854Z",
     "iopub.status.idle": "2024-03-31T18:37:16.250506Z",
     "shell.execute_reply": "2024-03-31T18:37:16.249334Z",
     "shell.execute_reply.started": "2024-03-31T18:37:15.864229Z"
    },
    "papermill": {
     "duration": null,
     "end_time": null,
     "exception": null,
     "start_time": null,
     "status": "pending"
    },
    "tags": []
   },
   "outputs": [],
   "source": [
    "# Function to explain an image using LIME, handling grayscale images\n",
    "def explain_image(image):\n",
    "  explainer = lime_image.LimeImageExplainer()\n",
    "  if len(image.shape) == 3:  # Check for single channel (grayscale)\n",
    "    explanation = explainer.explain_instance(image[None, :, :, 0], predict_fn, top_labels=3)\n",
    "  else:\n",
    "    raise ValueError(\"Image must have a single channel (grayscale) or three channels (RGB).\")\n",
    "  return explanation\n",
    "\n",
    "# Define a function to visualize explanation on top of the image (replace with your preferred method)\n",
    "def visualize_explanation(image, explanation):\n",
    "  # ... (Implement your preferred visualization logic for the explanation)\n",
    "  # This example simply overlays a transparent heatmap on the image\n",
    "  explanation_image = explanation.as_image()\n",
    "  explanation_image = explanation_image[..., np.newaxis]  # Add channel dimension for grayscale compatibility\n",
    "  explanation_image = np.repeat(explanation_image, 3, axis=-1)  # Repeat for RGB display\n",
    "  plt.imshow(image[0], cmap='gray', alpha=0.7)  # Display original image with transparency\n",
    "  plt.imshow(explanation_image, alpha=0.3)  # Overlay explanation heatmap with transparency\n",
    "\n",
    "n = 5  # Number of images to visualize\n",
    "plt.figure(figsize=(10, 4))\n",
    "\n",
    "for i in range(len(X_test)):\n",
    "  image = X_test[i]\n",
    "  try:\n",
    "    explanation = explain_image(image)\n",
    "    visualize_explanation(image, explanation)  # Replace with your visualization function\n",
    "  except ValueError as e:\n",
    "    print(f\"Error explaining image {i}: {e}\")\n",
    "\n",
    "  plt.title(f\"Image {i+1}\")\n",
    "  plt.axis('off')  # Hide axes for cleaner visualization\n",
    "  plt.tight_layout()\n",
    "  plt.show()"
   ]
  },
  {
   "cell_type": "code",
   "execution_count": null,
   "id": "64216876",
   "metadata": {
    "execution": {
     "iopub.execute_input": "2024-04-02T05:05:08.312284Z",
     "iopub.status.busy": "2024-04-02T05:05:08.311830Z",
     "iopub.status.idle": "2024-04-02T05:05:09.550086Z",
     "shell.execute_reply": "2024-04-02T05:05:09.548794Z",
     "shell.execute_reply.started": "2024-04-02T05:05:08.312252Z"
    },
    "papermill": {
     "duration": null,
     "end_time": null,
     "exception": null,
     "start_time": null,
     "status": "pending"
    },
    "tags": []
   },
   "outputs": [],
   "source": [
    "import matplotlib.pyplot as plt\n",
    "import os\n",
    "\n",
    "# Create a directory to save the reconstructed images\n",
    "save_dir = \"/kaggle/working/reconstructed_images\"\n",
    "os.makedirs(save_dir, exist_ok=True)\n",
    "\n",
    "n = min(5, len(X_test))  # Number of images to visualize, limited to the size of X_test\n",
    "plt.figure(figsize=(10, 4))\n",
    "for i in range(n):\n",
    "    # Display original\n",
    "    ax = plt.subplot(2, n, i + 1)\n",
    "    original_image = X_test[i][:, :, 0]  # Take the first channel for visualization\n",
    "    plt.imshow(original_image, cmap='gray')\n",
    "    plt.title('Original')\n",
    "    plt.axis('off')\n",
    "\n",
    "    # Display reconstructed\n",
    "    ax = plt.subplot(2, n, i + 1 + n)\n",
    "    reconstructed_image = decoded_imgs_test[i][:, :, 0]  # Take the first channel for visualization\n",
    "    plt.imshow(reconstructed_image, cmap='gray')\n",
    "    plt.title('Reconstructed')\n",
    "    plt.axis('off')\n",
    "\n",
    "    # Save the reconstructed image\n",
    "    save_path = os.path.join(save_dir, f\"reconstructed_image_{i+1}.png\")\n",
    "    plt.savefig(save_path)\n",
    "\n",
    "plt.tight_layout()\n",
    "plt.show()\n"
   ]
  },
  {
   "cell_type": "code",
   "execution_count": null,
   "id": "749b1885",
   "metadata": {
    "execution": {
     "iopub.execute_input": "2024-03-31T18:46:20.711745Z",
     "iopub.status.busy": "2024-03-31T18:46:20.711342Z",
     "iopub.status.idle": "2024-03-31T18:46:20.717754Z",
     "shell.execute_reply": "2024-03-31T18:46:20.716562Z",
     "shell.execute_reply.started": "2024-03-31T18:46:20.711713Z"
    },
    "papermill": {
     "duration": null,
     "end_time": null,
     "exception": null,
     "start_time": null,
     "status": "pending"
    },
    "tags": []
   },
   "outputs": [],
   "source": [
    "print(\"Shape of X_test[{}]: {}\".format(i, X_test[i].shape))\n"
   ]
  },
  {
   "cell_type": "code",
   "execution_count": null,
   "id": "704801ba",
   "metadata": {
    "papermill": {
     "duration": null,
     "end_time": null,
     "exception": null,
     "start_time": null,
     "status": "pending"
    },
    "tags": []
   },
   "outputs": [],
   "source": []
  }
 ],
 "metadata": {
  "kaggle": {
   "accelerator": "none",
   "dataSources": [
    {
     "datasetId": 4700718,
     "sourceId": 7985713,
     "sourceType": "datasetVersion"
    },
    {
     "datasetId": 4701204,
     "sourceId": 7986492,
     "sourceType": "datasetVersion"
    }
   ],
   "dockerImageVersionId": 30673,
   "isGpuEnabled": false,
   "isInternetEnabled": false,
   "language": "python",
   "sourceType": "notebook"
  },
  "kernelspec": {
   "display_name": "Python 3",
   "language": "python",
   "name": "python3"
  },
  "language_info": {
   "codemirror_mode": {
    "name": "ipython",
    "version": 3
   },
   "file_extension": ".py",
   "mimetype": "text/x-python",
   "name": "python",
   "nbconvert_exporter": "python",
   "pygments_lexer": "ipython3",
   "version": "3.10.13"
  },
  "papermill": {
   "default_parameters": {},
   "duration": 5.549192,
   "end_time": "2024-04-02T16:47:26.547739",
   "environment_variables": {},
   "exception": true,
   "input_path": "__notebook__.ipynb",
   "output_path": "__notebook__.ipynb",
   "parameters": {},
   "start_time": "2024-04-02T16:47:20.998547",
   "version": "2.5.0"
  }
 },
 "nbformat": 4,
 "nbformat_minor": 5
}
